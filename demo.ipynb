{
 "cells": [
  {
   "cell_type": "markdown",
   "metadata": {},
   "source": [
    "###  MicroGrad demo"
   ]
  },
  {
   "cell_type": "code",
   "execution_count": 1,
   "metadata": {},
   "outputs": [],
   "source": [
    "import random\n",
    "import numpy as np\n",
    "import matplotlib.pyplot as plt\n",
    "%matplotlib inline"
   ]
  },
  {
   "cell_type": "code",
   "execution_count": 2,
   "metadata": {},
   "outputs": [],
   "source": [
    "from micrograd.engine import Value\n",
    "from micrograd.nn import Neuron, Layer, MLP"
   ]
  },
  {
   "cell_type": "code",
   "execution_count": 3,
   "metadata": {},
   "outputs": [],
   "source": [
    "np.random.seed(1337)\n",
    "random.seed(1337)"
   ]
  },
  {
   "cell_type": "code",
   "execution_count": 4,
   "metadata": {},
   "outputs": [
    {
     "data": {
      "text/plain": [
       "<matplotlib.collections.PathCollection at 0x1a1c887e80>"
      ]
     },
     "execution_count": 4,
     "metadata": {},
     "output_type": "execute_result"
    },
    {
     "data": {
      "image/png": "[encoded data removed]",
      "text/plain": [
       "<Figure size 360x360 with 1 Axes>"
      ]
     },
     "metadata": {
      "needs_background": "light"
     },
     "output_type": "display_data"
    }
   ],
   "source": [
    "# make up a dataset\n",
    "\n",
    "from sklearn.datasets import make_moons, make_blobs\n",
    "X, y = make_moons(n_samples=100, noise=0.1)\n",
    "\n",
    "y = y*2 - 1 # make y be -1 or 1\n",
    "# visualize in 2D\n",
    "plt.figure(figsize=(5,5))\n",
    "plt.scatter(X[:,0], X[:,1], c=y, s=20, cmap='jet')"
   ]
  },
  {
   "cell_type": "code",
   "execution_count": 5,
   "metadata": {},
   "outputs": [
    {
     "name": "stdout",
     "output_type": "stream",
     "text": [
      "MLP of [Layer of [ReLUNeuron(2), ReLUNeuron(2), ReLUNeuron(2), ReLUNeuron(2), ReLUNeuron(2), ReLUNeuron(2), ReLUNeuron(2), ReLUNeuron(2), ReLUNeuron(2), ReLUNeuron(2), ReLUNeuron(2), ReLUNeuron(2), ReLUNeuron(2), ReLUNeuron(2), ReLUNeuron(2), ReLUNeuron(2)], Layer of [ReLUNeuron(16), ReLUNeuron(16), ReLUNeuron(16), ReLUNeuron(16), ReLUNeuron(16), ReLUNeuron(16), ReLUNeuron(16), ReLUNeuron(16), ReLUNeuron(16), ReLUNeuron(16), ReLUNeuron(16), ReLUNeuron(16), ReLUNeuron(16), ReLUNeuron(16), ReLUNeuron(16), ReLUNeuron(16)], Layer of [LinearNeuron(16)]]\n",
      "number of parameters 337\n"
     ]
    }
   ],
   "source": [
    "# initialize a model \n",
    "model = MLP(2, [16, 16, 1]) # 2-layer neural network\n",
    "print(model)\n",
    "print(\"number of parameters\", len(model.parameters()))"
   ]
  },
  {
   "cell_type": "code",
   "execution_count": 6,
   "metadata": {},
   "outputs": [
    {
     "name": "stdout",
     "output_type": "stream",
     "text": [
      "Value(data=0.8958441028683222, grad=0) 0.5\n"
     ]
    }
   ],
   "source": [
    "# loss function\n",
    "def loss(batch_size=None):\n",
    "    \n",
    "    # inline DataLoader :)\n",
    "    if batch_size is None:\n",
    "        Xb, yb = X, y\n",
    "    else:\n",
    "        ri = np.random.permutation(X.shape[0])[:batch_size]\n",
    "        Xb, yb = X[ri], y[ri]\n",
    "    inputs = [list(map(Value, xrow)) for xrow in Xb]\n",
    "    \n",
    "    # forward the model to get scores\n",
    "    scores = list(map(model, inputs))\n",
    "    \n",
    "    # svm \"max-margin\" loss\n",
    "    losses = [(1 + -yi * scorei).relu() for yi, scorei in zip(yb, scores)]\n",
    "    data_loss = sum(losses) * (1.0 / len(losses))\n",
    "    # L2 regularization\n",
    "    alpha = 1e-4\n",
    "    reg_loss = alpha * sum((p*p for p in model.parameters()))\n",
    "    total_loss = data_loss + reg_loss\n",
    "    \n",
    "    # also get accuracy\n",
    "    accuracy = [(yi > 0) == (scorei.data > 0) for yi, scorei in zip(yb, scores)]\n",
    "    return total_loss, sum(accuracy) / len(accuracy)\n",
    "\n",
    "total_loss, acc = loss()\n",
    "print(total_loss, acc)"
   ]
  },
  {
   "cell_type": "code",
   "execution_count": 7,
   "metadata": {},
   "outputs": [
    {
     "name": "stdout",
     "output_type": "stream",
     "text": [
      "step 0 loss 0.8958441028683222, accuracy 50.0%\n",
      "step 1 loss 1.1385269605233466, accuracy 76.0%\n",
      "step 2 loss 0.6492743386774888, accuracy 78.0%\n",
      "step 3 loss 0.360925921530329, accuracy 83.0%\n",
      "step 4 loss 0.8907324403996303, accuracy 77.0%\n",
      "step 5 loss 0.5646826452300904, accuracy 79.0%\n",
      "step 6 loss 0.3156801109748185, accuracy 85.0%\n",
      "step 7 loss 0.4157825430989441, accuracy 78.0%\n",
      "step 8 loss 0.6213067306738933, accuracy 79.0%\n",
      "step 9 loss 0.4180567496592728, accuracy 83.0%\n",
      "step 10 loss 0.28219041839006803, accuracy 86.0%\n",
      "step 11 loss 0.2743239585624415, accuracy 86.0%\n",
      "step 12 loss 0.29492786796191506, accuracy 84.0%\n",
      "step 13 loss 0.36221204595037265, accuracy 85.0%\n",
      "step 14 loss 0.3129397150958227, accuracy 82.0%\n",
      "step 15 loss 0.39887106321336463, accuracy 85.0%\n",
      "step 16 loss 0.26381378000762695, accuracy 88.0%\n",
      "step 17 loss 0.2611445705079117, accuracy 89.0%\n",
      "step 18 loss 0.2752681553368485, accuracy 87.0%\n",
      "step 19 loss 0.28804160476940854, accuracy 87.0%\n",
      "step 20 loss 0.3197969880189577, accuracy 84.0%\n",
      "step 21 loss 0.3449379623363138, accuracy 86.0%\n",
      "step 22 loss 0.2756387236601572, accuracy 89.0%\n",
      "step 23 loss 0.27820808925472196, accuracy 89.0%\n",
      "step 24 loss 0.3085868094404226, accuracy 88.0%\n",
      "step 25 loss 0.31010112931687156, accuracy 89.0%\n",
      "step 26 loss 0.28038435283369106, accuracy 88.0%\n",
      "step 27 loss 0.2997974224235103, accuracy 88.0%\n",
      "step 28 loss 0.27001777994095405, accuracy 91.0%\n",
      "step 29 loss 0.27067772677770013, accuracy 89.0%\n",
      "step 30 loss 0.2747605031172743, accuracy 89.0%\n",
      "step 31 loss 0.3035014820642558, accuracy 89.0%\n",
      "step 32 loss 0.2725855361876734, accuracy 91.0%\n",
      "step 33 loss 0.28687238814026, accuracy 90.0%\n",
      "step 34 loss 0.26764861548783747, accuracy 91.0%\n",
      "step 35 loss 0.2852017826044789, accuracy 90.0%\n",
      "step 36 loss 0.2578400625465807, accuracy 92.0%\n",
      "step 37 loss 0.2554404590646637, accuracy 92.0%\n",
      "step 38 loss 0.25550183383522723, accuracy 92.0%\n",
      "step 39 loss 0.25029321021808515, accuracy 92.0%\n",
      "step 40 loss 0.25192826275312213, accuracy 91.0%\n",
      "step 41 loss 0.24987624192733948, accuracy 92.0%\n",
      "step 42 loss 0.2680397351117543, accuracy 89.0%\n",
      "step 43 loss 0.2745380022217276, accuracy 90.0%\n",
      "step 44 loss 0.2477204796558657, accuracy 91.0%\n",
      "step 45 loss 0.24282540173487477, accuracy 92.0%\n",
      "step 46 loss 0.2562948834124049, accuracy 90.0%\n",
      "step 47 loss 0.25213740846499766, accuracy 91.0%\n",
      "step 48 loss 0.2638952006101125, accuracy 90.0%\n",
      "step 49 loss 0.2778945587919835, accuracy 90.0%\n",
      "step 50 loss 0.2436047530471408, accuracy 91.0%\n",
      "step 51 loss 0.23063827402272657, accuracy 93.0%\n",
      "step 52 loss 0.23542341678734385, accuracy 92.0%\n",
      "step 53 loss 0.2219834172350498, accuracy 92.0%\n",
      "step 54 loss 0.22176346609417014, accuracy 91.0%\n",
      "step 55 loss 0.21920879536035612, accuracy 93.0%\n",
      "step 56 loss 0.22446965828988596, accuracy 93.0%\n",
      "step 57 loss 0.2084693846294397, accuracy 92.0%\n",
      "step 58 loss 0.206263334077088, accuracy 96.0%\n",
      "step 59 loss 0.20786962471400225, accuracy 94.0%\n",
      "step 60 loss 0.1988647997815982, accuracy 94.0%\n",
      "step 61 loss 0.2016031698218395, accuracy 94.0%\n",
      "step 62 loss 0.19666227291358532, accuracy 94.0%\n",
      "step 63 loss 0.1944721856566291, accuracy 94.0%\n",
      "step 64 loss 0.19236768609906907, accuracy 96.0%\n",
      "step 65 loss 0.2032755234506043, accuracy 95.0%\n",
      "step 66 loss 0.22538748467144445, accuracy 92.0%\n",
      "step 67 loss 0.25042015120374894, accuracy 93.0%\n",
      "step 68 loss 0.18123011875165812, accuracy 97.0%\n",
      "step 69 loss 0.18273680027356018, accuracy 95.0%\n",
      "step 70 loss 0.18423354022975694, accuracy 95.0%\n",
      "step 71 loss 0.17888393396821947, accuracy 95.0%\n",
      "step 72 loss 0.18556825263698637, accuracy 94.0%\n",
      "step 73 loss 0.20908171358324087, accuracy 95.0%\n",
      "step 74 loss 0.1709706278890858, accuracy 95.0%\n",
      "step 75 loss 0.17090834162914526, accuracy 95.0%\n",
      "step 76 loss 0.1745509344182436, accuracy 94.0%\n",
      "step 77 loss 0.18130787961990374, accuracy 95.0%\n",
      "step 78 loss 0.17773293491721473, accuracy 94.0%\n",
      "step 79 loss 0.18341075061379242, accuracy 95.0%\n",
      "step 80 loss 0.14949546295725546, accuracy 95.0%\n",
      "step 81 loss 0.15014263640927955, accuracy 95.0%\n",
      "step 82 loss 0.15182412297913686, accuracy 94.0%\n",
      "step 83 loss 0.14348549612688635, accuracy 95.0%\n",
      "step 84 loss 0.1563821936790777, accuracy 94.0%\n",
      "step 85 loss 0.16125698219655338, accuracy 95.0%\n",
      "step 86 loss 0.152525171751533, accuracy 94.0%\n",
      "step 87 loss 0.15162638747164667, accuracy 95.0%\n",
      "step 88 loss 0.14396671682895215, accuracy 95.0%\n",
      "step 89 loss 0.1385541131587785, accuracy 95.0%\n",
      "step 90 loss 0.14706217508404354, accuracy 95.0%\n",
      "step 91 loss 0.13884892497809492, accuracy 95.0%\n",
      "step 92 loss 0.13986800002428076, accuracy 95.0%\n",
      "step 93 loss 0.12292058123909481, accuracy 96.0%\n",
      "step 94 loss 0.12278580131606984, accuracy 97.0%\n",
      "step 95 loss 0.13011906763950176, accuracy 95.0%\n",
      "step 96 loss 0.1299448575848511, accuracy 95.0%\n",
      "step 97 loss 0.12280725339498925, accuracy 96.0%\n",
      "step 98 loss 0.1296829351238715, accuracy 96.0%\n",
      "step 99 loss 0.11515452948465027, accuracy 96.0%\n",
      "step 100 loss 0.11680576492300558, accuracy 97.0%\n",
      "step 101 loss 0.1275530486641907, accuracy 95.0%\n",
      "step 102 loss 0.11858138147679602, accuracy 96.0%\n",
      "step 103 loss 0.11945506060480983, accuracy 96.0%\n",
      "step 104 loss 0.11925739263187832, accuracy 96.0%\n",
      "step 105 loss 0.11163385762683546, accuracy 96.0%\n",
      "step 106 loss 0.12130756357145137, accuracy 96.0%\n",
      "step 107 loss 0.10539507969359126, accuracy 97.0%\n",
      "step 108 loss 0.10607042452822817, accuracy 97.0%\n",
      "step 109 loss 0.11843703016931181, accuracy 96.0%\n",
      "step 110 loss 0.1112830252690315, accuracy 97.0%\n",
      "step 111 loss 0.10555242555247156, accuracy 97.0%\n",
      "step 112 loss 0.11162802205102697, accuracy 97.0%\n",
      "step 113 loss 0.10103415557576888, accuracy 97.0%\n",
      "step 114 loss 0.10718859834558549, accuracy 98.0%\n",
      "step 115 loss 0.10130682167954483, accuracy 97.0%\n",
      "step 116 loss 0.10468012310808926, accuracy 98.0%\n",
      "step 117 loss 0.09980474990087512, accuracy 97.0%\n",
      "step 118 loss 0.10170948184913117, accuracy 98.0%\n",
      "step 119 loss 0.10495815750128004, accuracy 97.0%\n",
      "step 120 loss 0.092576498815773, accuracy 98.0%\n",
      "step 121 loss 0.0901964221489017, accuracy 97.0%\n",
      "step 122 loss 0.09041792528797574, accuracy 98.0%\n",
      "step 123 loss 0.08804854434935536, accuracy 97.0%\n",
      "step 124 loss 0.0870586305109394, accuracy 98.0%\n",
      "step 125 loss 0.08797611555460179, accuracy 97.0%\n",
      "step 126 loss 0.09941611918364339, accuracy 98.0%\n",
      "step 127 loss 0.10709685404791819, accuracy 96.0%\n",
      "step 128 loss 0.08000252569363407, accuracy 98.0%\n",
      "step 129 loss 0.08113262441545457, accuracy 97.0%\n",
      "step 130 loss 0.08547340772828471, accuracy 99.0%\n",
      "step 131 loss 0.10516048590823834, accuracy 96.0%\n",
      "step 132 loss 0.07559220445754242, accuracy 98.0%\n",
      "step 133 loss 0.07845938939984295, accuracy 97.0%\n",
      "step 134 loss 0.08242277084218921, accuracy 99.0%\n",
      "step 135 loss 0.08694419037295546, accuracy 97.0%\n",
      "step 136 loss 0.08445075888982714, accuracy 99.0%\n",
      "step 137 loss 0.10322381966156025, accuracy 97.0%\n",
      "step 138 loss 0.0710055214746157, accuracy 98.0%\n",
      "step 139 loss 0.07500647400975607, accuracy 97.0%\n",
      "step 140 loss 0.09587144248198697, accuracy 98.0%\n",
      "step 141 loss 0.09121096305530267, accuracy 97.0%\n",
      "step 142 loss 0.07069210435052661, accuracy 99.0%\n",
      "step 143 loss 0.07647040769217672, accuracy 97.0%\n",
      "step 144 loss 0.08818150167078187, accuracy 99.0%\n",
      "step 145 loss 0.09890129125191513, accuracy 97.0%\n",
      "step 146 loss 0.07138802455102707, accuracy 99.0%\n",
      "step 147 loss 0.09010668266439284, accuracy 97.0%\n",
      "step 148 loss 0.06791853696826573, accuracy 99.0%\n",
      "step 149 loss 0.09220739636954929, accuracy 97.0%\n",
      "step 150 loss 0.0643692446312098, accuracy 99.0%\n",
      "step 151 loss 0.07273292738879687, accuracy 97.0%\n",
      "step 152 loss 0.07228146815870656, accuracy 99.0%\n",
      "step 153 loss 0.07895800533159007, accuracy 97.0%\n",
      "step 154 loss 0.06799893233839355, accuracy 99.0%\n",
      "step 155 loss 0.08056580902623867, accuracy 97.0%\n",
      "step 156 loss 0.06078100204949933, accuracy 99.0%\n",
      "step 157 loss 0.07195113186485842, accuracy 97.0%\n",
      "step 158 loss 0.06844854411312444, accuracy 100.0%\n",
      "step 159 loss 0.07294675650433287, accuracy 97.0%\n",
      "step 160 loss 0.06437460834512392, accuracy 100.0%\n",
      "step 161 loss 0.07428710521108998, accuracy 97.0%\n",
      "step 162 loss 0.0622937526916013, accuracy 100.0%\n",
      "step 163 loss 0.07541556054232305, accuracy 97.0%\n",
      "step 164 loss 0.06394637269093684, accuracy 100.0%\n",
      "step 165 loss 0.08293375527558466, accuracy 97.0%\n",
      "step 166 loss 0.06082765981653514, accuracy 100.0%\n",
      "step 167 loss 0.07681538895696388, accuracy 97.0%\n",
      "step 168 loss 0.057111325548537456, accuracy 100.0%\n",
      "step 169 loss 0.07328121721595349, accuracy 97.0%\n",
      "step 170 loss 0.053724377496977636, accuracy 100.0%\n",
      "step 171 loss 0.08099515571591993, accuracy 97.0%\n",
      "step 172 loss 0.049734038623435346, accuracy 99.0%\n",
      "step 173 loss 0.049361536270227824, accuracy 99.0%\n",
      "step 174 loss 0.04863448536082203, accuracy 99.0%\n",
      "step 175 loss 0.04810623611904974, accuracy 99.0%\n",
      "step 176 loss 0.048250428982465086, accuracy 99.0%\n",
      "step 177 loss 0.07497522614399739, accuracy 99.0%\n",
      "step 178 loss 0.08495355376855729, accuracy 97.0%\n",
      "step 179 loss 0.04709437019581432, accuracy 99.0%\n",
      "step 180 loss 0.056402990231506994, accuracy 100.0%\n",
      "step 181 loss 0.06663074328132418, accuracy 97.0%\n",
      "step 182 loss 0.053012274049893525, accuracy 100.0%\n",
      "step 183 loss 0.06753366094209322, accuracy 97.0%\n",
      "step 184 loss 0.04831724542217604, accuracy 100.0%\n",
      "step 185 loss 0.05596167821372465, accuracy 98.0%\n",
      "step 186 loss 0.05564894748430812, accuracy 100.0%\n",
      "step 187 loss 0.06927325334812592, accuracy 97.0%\n",
      "step 188 loss 0.0445937745452226, accuracy 100.0%\n",
      "step 189 loss 0.047753064634323675, accuracy 99.0%\n",
      "step 190 loss 0.06181955161874489, accuracy 100.0%\n",
      "step 191 loss 0.07755593228094528, accuracy 97.0%\n",
      "step 192 loss 0.043917282444800435, accuracy 100.0%\n",
      "step 193 loss 0.04270600293452227, accuracy 100.0%\n",
      "step 194 loss 0.041682039328595474, accuracy 100.0%\n",
      "step 195 loss 0.041534050249874416, accuracy 100.0%\n",
      "step 196 loss 0.0525323370939684, accuracy 100.0%\n",
      "step 197 loss 0.06391991521093969, accuracy 98.0%\n",
      "step 198 loss 0.04066538736980109, accuracy 100.0%\n",
      "step 199 loss 0.0401602488304608, accuracy 100.0%\n"
     ]
    }
   ],
   "source": [
    "# optimization\n",
    "learning_rate = 0.001\n",
    "\n",
    "for k in range(200):\n",
    "    \n",
    "    # forward\n",
    "    total_loss, acc = loss()\n",
    "    \n",
    "    # backward\n",
    "    model.zero_grad()\n",
    "    total_loss.grad = 1\n",
    "    total_loss.backward()\n",
    "    \n",
    "    # update (sgd)\n",
    "    for p in model.parameters():\n",
    "        p.data -= learning_rate * p.grad\n",
    "    \n",
    "    if k % 1 == 0:\n",
    "        print(f\"step {k} loss {total_loss.data}, accuracy {acc*100}%\")\n"
   ]
  },
  {
   "cell_type": "code",
   "execution_count": 9,
   "metadata": {},
   "outputs": [
    {
     "data": {
      "text/plain": [
       "(-1.548639298268643, 1.951360701731357)"
      ]
     },
     "execution_count": 9,
     "metadata": {},
     "output_type": "execute_result"
    },
    {
     "data": {
      "image/png": "[encoded data removed]",
      "text/plain": [
       "<Figure size 432x288 with 1 Axes>"
      ]
     },
     "metadata": {
      "needs_background": "light"
     },
     "output_type": "display_data"
    }
   ],
   "source": [
    "# visualize decision boundary\n",
    "\n",
    "h = 0.25\n",
    "x_min, x_max = X[:, 0].min() - 1, X[:, 0].max() + 1\n",
    "y_min, y_max = X[:, 1].min() - 1, X[:, 1].max() + 1\n",
    "xx, yy = np.meshgrid(np.arange(x_min, x_max, h),\n",
    "                     np.arange(y_min, y_max, h))\n",
    "Xmesh = np.c_[xx.ravel(), yy.ravel()]\n",
    "inputs = [list(map(Value, xrow)) for xrow in Xmesh]\n",
    "scores = list(map(model, inputs))\n",
    "Z = np.array([s.data > 0 for s in scores])\n",
    "Z = Z.reshape(xx.shape)\n",
    "\n",
    "fig = plt.figure()\n",
    "plt.contourf(xx, yy, Z, cmap=plt.cm.Spectral, alpha=0.8)\n",
    "plt.scatter(X[:, 0], X[:, 1], c=y, s=40, cmap=plt.cm.Spectral)\n",
    "plt.xlim(xx.min(), xx.max())\n",
    "plt.ylim(yy.min(), yy.max())\n"
   ]
  },
  {
   "cell_type": "code",
   "execution_count": null,
   "metadata": {},
   "outputs": [],
   "source": []
  }
 ],
 "metadata": {
  "kernelspec": {
   "display_name": "Python 3",
   "language": "python",
   "name": "python3"
  },
  "language_info": {
   "codemirror_mode": {
    "name": "ipython",
    "version": 3
   },
   "file_extension": ".py",
   "mimetype": "text/x-python",
   "name": "python",
   "nbconvert_exporter": "python",
   "pygments_lexer": "ipython3",
   "version": "3.7.3"
  }
 },
 "nbformat": 4,
 "nbformat_minor": 4
}
