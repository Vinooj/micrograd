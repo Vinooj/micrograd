{
 "cells": [
  {
   "cell_type": "markdown",
   "metadata": {},
   "source": [
    "###  Let's calculate higher order gradients som hessian!\n",
    "I added `keep_graph` and `zero_grad` flags to the gradient call. \n",
    "- The first one `keep_graph` is used to calculate gradients using `Value`. By doing that we record how the gradient is calculated from inputs.\n",
    "- The second one is `zero_grad`. We set the gradient of variables to zero, however there might be other hidden variables that we are not setting to zero during second backprop, if enabled, we set the gradient of variables that are connected to the loss to zero during our topological sort. This is set to `True` by default."
   ]
  },
  {
   "cell_type": "code",
   "execution_count": 1,
   "metadata": {},
   "outputs": [],
   "source": [
    "import random\n",
    "import numpy as np\n",
    "import matplotlib.pyplot as plt\n",
    "%matplotlib inline"
   ]
  },
  {
   "cell_type": "code",
   "execution_count": 2,
   "metadata": {},
   "outputs": [],
   "source": [
    "from micrograd.engine import Value\n",
    "from micrograd.nn import Neuron, Layer, MLP"
   ]
  },
  {
   "cell_type": "code",
   "execution_count": 3,
   "metadata": {},
   "outputs": [],
   "source": [
    "np.random.seed(1337)\n",
    "random.seed(1337)"
   ]
  },
  {
   "cell_type": "markdown",
   "metadata": {},
   "source": [
    "Let's take derivatives of $y = x^3 $.\n",
    "- First derivative: $\\frac{dy}{dx} = 3x^2 $\n",
    "- Second derivative $\\frac{dy}{dx^2} = 6x $\n",
    "- Third derivative $\\frac{dy}{dx^3} = 6 $\n",
    "- Forth derivative $\\frac{dy}{dx^4} = 0 $"
   ]
  },
  {
   "cell_type": "code",
   "execution_count": 12,
   "metadata": {},
   "outputs": [
    {
     "name": "stdout",
     "output_type": "stream",
     "text": [
      "x: 3\n",
      "y: 27\n",
      "First derivative: 27\n",
      "Second derivative: 18\n",
      "Third derivative: 6\n",
      "Fourth derivative: 0.0\n"
     ]
    }
   ],
   "source": [
    "x = Value(3)\n",
    "# y = x*x*x\n",
    "y = x**3\n",
    "print('x:', x.data)\n",
    "print('y:', y.data)\n",
    "x.grad = 0 # We don't have to do it as long as x is connected to y. But lets do it anyway.\n",
    "y.backward()\n",
    "dy = x.grad\n",
    "print('First derivative:', dy.data)\n",
    "x.grad = 0\n",
    "dy.backward()\n",
    "d2y = x.grad\n",
    "print('Second derivative:', d2y.data)\n",
    "x.grad = 0\n",
    "d2y.backward()\n",
    "d3y = x.grad\n",
    "print('Third derivative:', d3y.data)\n",
    "# Here the x.grad is not going to be zerod automatically since it is disconnected from the results\n",
    "# So, we _have to_ set it to zero.\n",
    "d3y.backward()\n",
    "d4y = x.grad\n",
    "print('Fourth derivative:', d4y.data)\n"
   ]
  },
  {
   "cell_type": "markdown",
   "metadata": {},
   "source": [
    "# Classification Task from the Moon"
   ]
  },
  {
   "cell_type": "code",
   "execution_count": 8,
   "metadata": {},
   "outputs": [
    {
     "data": {
      "text/plain": [
       "<matplotlib.collections.PathCollection at 0x11f252b90>"
      ]
     },
     "execution_count": 8,
     "metadata": {},
     "output_type": "execute_result"
    },
    {
     "data": {
      "image/png": "[encoded data removed]",
      "text/plain": [
       "<Figure size 360x360 with 1 Axes>"
      ]
     },
     "metadata": {
      "needs_background": "light"
     },
     "output_type": "display_data"
    }
   ],
   "source": [
    "# make up a dataset\n",
    "from sklearn.datasets import make_moons, make_blobs\n",
    "X, y = make_moons(n_samples=100, noise=0.1)\n",
    "\n",
    "y = y*2 - 1 # make y be -1 or 1\n",
    "# visualize in 2D\n",
    "plt.figure(figsize=(5,5))\n",
    "plt.scatter(X[:,0], X[:,1], c=y, s=20, cmap='jet')"
   ]
  },
  {
   "cell_type": "code",
   "execution_count": 9,
   "metadata": {},
   "outputs": [
    {
     "name": "stdout",
     "output_type": "stream",
     "text": [
      "MLP of [Layer of [ReLUNeuron(2), ReLUNeuron(2), ReLUNeuron(2), ReLUNeuron(2), ReLUNeuron(2), ReLUNeuron(2), ReLUNeuron(2), ReLUNeuron(2), ReLUNeuron(2), ReLUNeuron(2), ReLUNeuron(2), ReLUNeuron(2), ReLUNeuron(2), ReLUNeuron(2), ReLUNeuron(2), ReLUNeuron(2)], Layer of [ReLUNeuron(16), ReLUNeuron(16), ReLUNeuron(16), ReLUNeuron(16), ReLUNeuron(16), ReLUNeuron(16), ReLUNeuron(16), ReLUNeuron(16), ReLUNeuron(16), ReLUNeuron(16), ReLUNeuron(16), ReLUNeuron(16), ReLUNeuron(16), ReLUNeuron(16), ReLUNeuron(16), ReLUNeuron(16)], Layer of [LinearNeuron(16)]]\n",
      "number of parameters 337\n"
     ]
    }
   ],
   "source": [
    "# initialize a model \n",
    "model = MLP(2, [16, 16, 1]) # 2-layer neural network\n",
    "print(model)\n",
    "print(\"number of parameters\", len(model.parameters()))"
   ]
  },
  {
   "cell_type": "code",
   "execution_count": 12,
   "metadata": {},
   "outputs": [
    {
     "name": "stdout",
     "output_type": "stream",
     "text": [
      "Value(data=0.8958441028683222, grad=0) 0.5\n"
     ]
    }
   ],
   "source": [
    "# loss function\n",
    "def loss(batch_size=None):\n",
    "    \n",
    "    # inline DataLoader :)\n",
    "    if batch_size is None:\n",
    "        Xb, yb = X, y\n",
    "    else:\n",
    "        ri = np.random.permutation(X.shape[0])[:batch_size]\n",
    "        Xb, yb = X[ri], y[ri]\n",
    "    inputs = [list(map(Value, xrow)) for xrow in Xb]\n",
    "    \n",
    "    # forward the model to get scores\n",
    "    scores = list(map(model, inputs))\n",
    "    \n",
    "    # svm \"max-margin\" loss\n",
    "    losses = [(1 + -yi*scorei).relu() for yi, scorei in zip(yb, scores)]\n",
    "    data_loss = sum(losses) * (1.0 / len(losses))\n",
    "    # L2 regularization\n",
    "    alpha = 1e-4\n",
    "    reg_loss = alpha * sum((p*p for p in model.parameters()))\n",
    "    total_loss = data_loss + reg_loss\n",
    "    \n",
    "    # also get accuracy\n",
    "    accuracy = [(yi > 0) == (scorei.data > 0) for yi, scorei in zip(yb, scores)]\n",
    "    return total_loss, sum(accuracy) / len(accuracy)\n",
    "\n",
    "total_loss, acc = loss()\n",
    "print(total_loss, acc)"
   ]
  },
  {
   "cell_type": "markdown",
   "metadata": {},
   "source": [
    "# Calculating Hessian row by row\n",
    "Similar to what we did in 1d setting, we have to `keep_graph` to `True`. Then, we will calculate Hessian row by row. Specifically the i'th row of the hessian is the gradient of the i'th element of the gradient:\n",
    "$$H[i,:] = \\frac{d}{dx}(\\frac{dy}{dx_i})$$"
   ]
  },
  {
   "cell_type": "code",
   "execution_count": 13,
   "metadata": {},
   "outputs": [],
   "source": [
    "def calculate_hessian():\n",
    "    # allocate hessian\n",
    "    n = len(model.parameters())\n",
    "    hessian = np.zeros(shape=(n, n))\n",
    "    all_params = model.parameters()\n",
    "    total_loss, _ = loss()\n",
    "    # backward\n",
    "    model.zero_grad()\n",
    "    total_loss.backward(keep_graph=True)\n",
    "    grads = [p.grad for p in all_params]\n",
    "    for i, g_i in enumerate(grads):\n",
    "        model.zero_grad()\n",
    "        g_i.backward()\n",
    "        for j, p2 in enumerate(all_params):\n",
    "            hessian[i, j] = p2.grad\n",
    "    return hessian"
   ]
  },
  {
   "cell_type": "code",
   "execution_count": 14,
   "metadata": {},
   "outputs": [
    {
     "data": {
      "text/plain": [
       "Text(0.5, 1.0, 'Eigen Spectrum of Hessian')"
      ]
     },
     "execution_count": 14,
     "metadata": {},
     "output_type": "execute_result"
    },
    {
     "data": {
      "image/png": "[encoded data removed]",
      "text/plain": [
       "<Figure size 432x288 with 1 Axes>"
      ]
     },
     "metadata": {
      "needs_background": "light"
     },
     "output_type": "display_data"
    }
   ],
   "source": [
    "hessian = calculate_hessian()\n",
    "eigvals, eigvecs = np.linalg.eigh(hessian)\n",
    "plt.hist(eigvals, bins=20)\n",
    "plt.yscale('log')\n",
    "plt.title('Eigen Spectrum of Hessian')"
   ]
  }
 ],
 "metadata": {
  "kernelspec": {
   "display_name": "Python 3",
   "language": "python",
   "name": "python3"
  },
  "language_info": {
   "codemirror_mode": {
    "name": "ipython",
    "version": 3
   },
   "file_extension": ".py",
   "mimetype": "text/x-python",
   "name": "python",
   "nbconvert_exporter": "python",
   "pygments_lexer": "ipython3",
   "version": "3.7.7"
  }
 },
 "nbformat": 4,
 "nbformat_minor": 2
}
